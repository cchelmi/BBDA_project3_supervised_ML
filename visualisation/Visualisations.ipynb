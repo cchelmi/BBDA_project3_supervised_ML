{
 "cells": [
  {
   "cell_type": "code",
   "execution_count": 1,
   "id": "b3a26970-4d26-4391-b58e-a63c530af57e",
   "metadata": {},
   "outputs": [],
   "source": [
    "import pandas as pd\n",
    "import numpy as np\n",
    "import matplotlib as mpl\n",
    "from matplotlib import pyplot as plt\n",
    "import seaborn as sns\n",
    "from datetime import date\n",
    "from scipy import stats\n",
    "from scipy.stats import norm, skew #for some statistics\n",
    "\n",
    "import plotly.express as px\n",
    "import plotly.graph_objects as go\n",
    "import plotly.figure_factory as ff\n",
    "from plotly.colors import n_colors\n",
    "from plotly.subplots import make_subplots\n",
    "\n",
    "from sklearn.model_selection import train_test_split\n",
    "from sklearn.preprocessing import StandardScaler, OneHotEncoder, RobustScaler\n",
    "from sklearn.feature_selection import SelectKBest, f_regression, f_classif\n",
    "from sklearn.ensemble import RandomForestClassifier\n",
    "from sklearn.metrics import accuracy_score, classification_report, recall_score, confusion_matrix\n",
    "from imblearn.under_sampling import NearMiss\n",
    "\n",
    "from sklearn.metrics import confusion_matrix, classification_report,accuracy_score,roc_curve, auc, precision_recall_curve, f1_score\n",
    "\n",
    "import warnings\n",
    "warnings.filterwarnings(\"ignore\")\n",
    "%matplotlib inline\n",
    "pd.set_option(\"display.max_columns\",None)\n",
    "pd.set_option(\"display.max_rows\",None)"
   ]
  },
  {
   "cell_type": "code",
   "execution_count": 2,
   "id": "51481696-6cde-4cfc-97b2-a2a6edca0d80",
   "metadata": {},
   "outputs": [],
   "source": [
    "data = pd.read_csv('startup data.csv')"
   ]
  },
  {
   "cell_type": "code",
   "execution_count": 3,
   "id": "5e760ecc-dd8c-4ed3-a98c-19214b365868",
   "metadata": {},
   "outputs": [
    {
     "data": {
      "text/plain": [
       "(923, 49)"
      ]
     },
     "execution_count": 3,
     "metadata": {},
     "output_type": "execute_result"
    }
   ],
   "source": [
    "data.shape"
   ]
  },
  {
   "cell_type": "code",
   "execution_count": 4,
   "id": "d44f00fb-99d9-4fe2-b6c1-869b86f0e97d",
   "metadata": {},
   "outputs": [
    {
     "data": {
      "text/plain": [
       "(823, 49)"
      ]
     },
     "execution_count": 4,
     "metadata": {},
     "output_type": "execute_result"
    }
   ],
   "source": [
    "data_to_test = data.tail(100)\n",
    "data_to_test.to_csv(r\"C:\\Users\\mattv\\Lilly - Data Science\\Git-project-3- Startup success prediction\\Cleaning\\100rowstest_data_for_test\", index = False)\n",
    "data_to_test.index\n",
    "data.drop(data_to_test.index).head()\n",
    "data = data.drop(data_to_test.index)\n",
    "data.shape"
   ]
  },
  {
   "cell_type": "code",
   "execution_count": 5,
   "id": "64b0b2d7-6086-4b06-ab5a-330ff82c295a",
   "metadata": {},
   "outputs": [
    {
     "data": {
      "image/png": "[encoded data removed]",
      "text/plain": [
       "<Figure size 640x480 with 1 Axes>"
      ]
     },
     "metadata": {},
     "output_type": "display_data"
    }
   ],
   "source": [
    "status_count = data['status'].value_counts()\n",
    "plt.pie(status_count, labels = status_count.index, autopct = '%1.1f%%', )\n",
    "plt.show()"
   ]
  },
  {
   "cell_type": "code",
   "execution_count": 6,
   "id": "f2c3c131-4a0e-49a5-a483-fd1111933d12",
   "metadata": {},
   "outputs": [],
   "source": [
    "# Transforming the target column to boolian\n",
    "\n",
    "data.replace(to_replace = ['acquired','closed'],value = [1,0], inplace = True)"
   ]
  },
  {
   "cell_type": "code",
   "execution_count": 7,
   "id": "83fd96f0-74eb-4ac2-8874-ebe65d1a85f2",
   "metadata": {},
   "outputs": [
    {
     "name": "stdout",
     "output_type": "stream",
     "text": [
      "<class 'pandas.core.frame.DataFrame'>\n",
      "RangeIndex: 823 entries, 0 to 822\n",
      "Data columns (total 49 columns):\n",
      " #   Column                    Non-Null Count  Dtype  \n",
      "---  ------                    --------------  -----  \n",
      " 0   Unnamed: 0                823 non-null    int64  \n",
      " 1   state_code                823 non-null    object \n",
      " 2   latitude                  823 non-null    float64\n",
      " 3   longitude                 823 non-null    float64\n",
      " 4   zip_code                  823 non-null    object \n",
      " 5   id                        823 non-null    object \n",
      " 6   city                      823 non-null    object \n",
      " 7   Unnamed: 6                384 non-null    object \n",
      " 8   name                      823 non-null    object \n",
      " 9   labels                    823 non-null    int64  \n",
      " 10  founded_at                823 non-null    object \n",
      " 11  closed_at                 302 non-null    object \n",
      " 12  first_funding_at          823 non-null    object \n",
      " 13  last_funding_at           823 non-null    object \n",
      " 14  age_first_funding_year    823 non-null    float64\n",
      " 15  age_last_funding_year     823 non-null    float64\n",
      " 16  age_first_milestone_year  682 non-null    float64\n",
      " 17  age_last_milestone_year   682 non-null    float64\n",
      " 18  relationships             823 non-null    int64  \n",
      " 19  funding_rounds            823 non-null    int64  \n",
      " 20  funding_total_usd         823 non-null    int64  \n",
      " 21  milestones                823 non-null    int64  \n",
      " 22  state_code.1              822 non-null    object \n",
      " 23  is_CA                     823 non-null    int64  \n",
      " 24  is_NY                     823 non-null    int64  \n",
      " 25  is_MA                     823 non-null    int64  \n",
      " 26  is_TX                     823 non-null    int64  \n",
      " 27  is_otherstate             823 non-null    int64  \n",
      " 28  category_code             823 non-null    object \n",
      " 29  is_software               823 non-null    int64  \n",
      " 30  is_web                    823 non-null    int64  \n",
      " 31  is_mobile                 823 non-null    int64  \n",
      " 32  is_enterprise             823 non-null    int64  \n",
      " 33  is_advertising            823 non-null    int64  \n",
      " 34  is_gamesvideo             823 non-null    int64  \n",
      " 35  is_ecommerce              823 non-null    int64  \n",
      " 36  is_biotech                823 non-null    int64  \n",
      " 37  is_consulting             823 non-null    int64  \n",
      " 38  is_othercategory          823 non-null    int64  \n",
      " 39  object_id                 823 non-null    object \n",
      " 40  has_VC                    823 non-null    int64  \n",
      " 41  has_angel                 823 non-null    int64  \n",
      " 42  has_roundA                823 non-null    int64  \n",
      " 43  has_roundB                823 non-null    int64  \n",
      " 44  has_roundC                823 non-null    int64  \n",
      " 45  has_roundD                823 non-null    int64  \n",
      " 46  avg_participants          823 non-null    float64\n",
      " 47  is_top500                 823 non-null    int64  \n",
      " 48  status                    823 non-null    int64  \n",
      "dtypes: float64(7), int64(29), object(13)\n",
      "memory usage: 315.2+ KB\n"
     ]
    }
   ],
   "source": [
    "data.info()"
   ]
  },
  {
   "cell_type": "code",
   "execution_count": 8,
   "id": "ed088de5-c907-4ec9-af1a-6546d2a0df89",
   "metadata": {},
   "outputs": [],
   "source": [
    "#data.isnull().sum()"
   ]
  },
  {
   "cell_type": "code",
   "execution_count": 9,
   "id": "317b59a0-4d34-42fe-8cf3-c95657778075",
   "metadata": {},
   "outputs": [
    {
     "data": {
      "text/plain": [
       "1243"
      ]
     },
     "execution_count": 9,
     "metadata": {},
     "output_type": "execute_result"
    }
   ],
   "source": [
    "data.isnull().sum().sum()"
   ]
  },
  {
   "cell_type": "code",
   "execution_count": 10,
   "id": "7f5bc310-de55-43cd-b675-c665cc654905",
   "metadata": {},
   "outputs": [
    {
     "data": {
      "text/plain": [
       "823"
      ]
     },
     "execution_count": 10,
     "metadata": {},
     "output_type": "execute_result"
    }
   ],
   "source": [
    "# Checking for duplicates: \n",
    "\n",
    "data['id'].nunique() # so no duplicates"
   ]
  },
  {
   "cell_type": "code",
   "execution_count": 11,
   "id": "715bb39d-8318-424f-ba12-f4c6b2377713",
   "metadata": {},
   "outputs": [
    {
     "data": {
      "text/html": [
       "<div>\n",
       "<style scoped>\n",
       "    .dataframe tbody tr th:only-of-type {\n",
       "        vertical-align: middle;\n",
       "    }\n",
       "\n",
       "    .dataframe tbody tr th {\n",
       "        vertical-align: top;\n",
       "    }\n",
       "\n",
       "    .dataframe thead th {\n",
       "        text-align: right;\n",
       "    }\n",
       "</style>\n",
       "<table border=\"1\" class=\"dataframe\">\n",
       "  <thead>\n",
       "    <tr style=\"text-align: right;\">\n",
       "      <th></th>\n",
       "      <th>Unnamed: 0</th>\n",
       "      <th>latitude</th>\n",
       "      <th>longitude</th>\n",
       "      <th>labels</th>\n",
       "      <th>age_first_funding_year</th>\n",
       "      <th>age_last_funding_year</th>\n",
       "      <th>age_first_milestone_year</th>\n",
       "      <th>age_last_milestone_year</th>\n",
       "      <th>relationships</th>\n",
       "      <th>funding_rounds</th>\n",
       "      <th>funding_total_usd</th>\n",
       "      <th>milestones</th>\n",
       "      <th>is_CA</th>\n",
       "      <th>is_NY</th>\n",
       "      <th>is_MA</th>\n",
       "      <th>is_TX</th>\n",
       "      <th>is_otherstate</th>\n",
       "      <th>is_software</th>\n",
       "      <th>is_web</th>\n",
       "      <th>is_mobile</th>\n",
       "      <th>is_enterprise</th>\n",
       "      <th>is_advertising</th>\n",
       "      <th>is_gamesvideo</th>\n",
       "      <th>is_ecommerce</th>\n",
       "      <th>is_biotech</th>\n",
       "      <th>is_consulting</th>\n",
       "      <th>is_othercategory</th>\n",
       "      <th>has_VC</th>\n",
       "      <th>has_angel</th>\n",
       "      <th>has_roundA</th>\n",
       "      <th>has_roundB</th>\n",
       "      <th>has_roundC</th>\n",
       "      <th>has_roundD</th>\n",
       "      <th>avg_participants</th>\n",
       "      <th>is_top500</th>\n",
       "      <th>status</th>\n",
       "    </tr>\n",
       "  </thead>\n",
       "  <tbody>\n",
       "    <tr>\n",
       "      <th>count</th>\n",
       "      <td>823.000000</td>\n",
       "      <td>823.000000</td>\n",
       "      <td>823.000000</td>\n",
       "      <td>823.000000</td>\n",
       "      <td>823.000000</td>\n",
       "      <td>823.000000</td>\n",
       "      <td>682.000000</td>\n",
       "      <td>682.000000</td>\n",
       "      <td>823.000000</td>\n",
       "      <td>823.000000</td>\n",
       "      <td>8.230000e+02</td>\n",
       "      <td>823.000000</td>\n",
       "      <td>823.000000</td>\n",
       "      <td>823.000000</td>\n",
       "      <td>823.000000</td>\n",
       "      <td>823.000000</td>\n",
       "      <td>823.000000</td>\n",
       "      <td>823.000000</td>\n",
       "      <td>823.000000</td>\n",
       "      <td>823.000000</td>\n",
       "      <td>823.000000</td>\n",
       "      <td>823.000000</td>\n",
       "      <td>823.000000</td>\n",
       "      <td>823.000000</td>\n",
       "      <td>823.000000</td>\n",
       "      <td>823.000000</td>\n",
       "      <td>823.000000</td>\n",
       "      <td>823.000000</td>\n",
       "      <td>823.000000</td>\n",
       "      <td>823.000000</td>\n",
       "      <td>823.000000</td>\n",
       "      <td>823.000000</td>\n",
       "      <td>823.000000</td>\n",
       "      <td>823.000000</td>\n",
       "      <td>823.000000</td>\n",
       "      <td>823.000000</td>\n",
       "    </tr>\n",
       "    <tr>\n",
       "      <th>mean</th>\n",
       "      <td>571.929526</td>\n",
       "      <td>38.514740</td>\n",
       "      <td>-103.387944</td>\n",
       "      <td>0.643985</td>\n",
       "      <td>2.221836</td>\n",
       "      <td>3.913024</td>\n",
       "      <td>3.063513</td>\n",
       "      <td>4.790902</td>\n",
       "      <td>7.731470</td>\n",
       "      <td>2.317132</td>\n",
       "      <td>2.634635e+07</td>\n",
       "      <td>1.839611</td>\n",
       "      <td>0.522479</td>\n",
       "      <td>0.116646</td>\n",
       "      <td>0.091130</td>\n",
       "      <td>0.044957</td>\n",
       "      <td>0.223572</td>\n",
       "      <td>0.167679</td>\n",
       "      <td>0.160389</td>\n",
       "      <td>0.082625</td>\n",
       "      <td>0.081409</td>\n",
       "      <td>0.065614</td>\n",
       "      <td>0.057108</td>\n",
       "      <td>0.029162</td>\n",
       "      <td>0.037667</td>\n",
       "      <td>0.002430</td>\n",
       "      <td>0.315917</td>\n",
       "      <td>0.319563</td>\n",
       "      <td>0.258809</td>\n",
       "      <td>0.516403</td>\n",
       "      <td>0.391252</td>\n",
       "      <td>0.228433</td>\n",
       "      <td>0.099635</td>\n",
       "      <td>2.792424</td>\n",
       "      <td>0.806804</td>\n",
       "      <td>0.643985</td>\n",
       "    </tr>\n",
       "    <tr>\n",
       "      <th>std</th>\n",
       "      <td>335.009983</td>\n",
       "      <td>3.669509</td>\n",
       "      <td>22.215104</td>\n",
       "      <td>0.479111</td>\n",
       "      <td>2.500585</td>\n",
       "      <td>2.991667</td>\n",
       "      <td>2.989482</td>\n",
       "      <td>3.263351</td>\n",
       "      <td>7.351255</td>\n",
       "      <td>1.394388</td>\n",
       "      <td>2.006804e+08</td>\n",
       "      <td>1.342198</td>\n",
       "      <td>0.499798</td>\n",
       "      <td>0.321194</td>\n",
       "      <td>0.287969</td>\n",
       "      <td>0.207337</td>\n",
       "      <td>0.416892</td>\n",
       "      <td>0.373808</td>\n",
       "      <td>0.367189</td>\n",
       "      <td>0.275481</td>\n",
       "      <td>0.273629</td>\n",
       "      <td>0.247756</td>\n",
       "      <td>0.232190</td>\n",
       "      <td>0.168362</td>\n",
       "      <td>0.190506</td>\n",
       "      <td>0.049266</td>\n",
       "      <td>0.465163</td>\n",
       "      <td>0.466591</td>\n",
       "      <td>0.438247</td>\n",
       "      <td>0.500035</td>\n",
       "      <td>0.488327</td>\n",
       "      <td>0.420078</td>\n",
       "      <td>0.299695</td>\n",
       "      <td>1.854997</td>\n",
       "      <td>0.395045</td>\n",
       "      <td>0.479111</td>\n",
       "    </tr>\n",
       "    <tr>\n",
       "      <th>min</th>\n",
       "      <td>1.000000</td>\n",
       "      <td>25.752358</td>\n",
       "      <td>-122.756956</td>\n",
       "      <td>0.000000</td>\n",
       "      <td>-9.046600</td>\n",
       "      <td>-9.046600</td>\n",
       "      <td>-14.169900</td>\n",
       "      <td>-3.882200</td>\n",
       "      <td>0.000000</td>\n",
       "      <td>1.000000</td>\n",
       "      <td>1.100000e+04</td>\n",
       "      <td>0.000000</td>\n",
       "      <td>0.000000</td>\n",
       "      <td>0.000000</td>\n",
       "      <td>0.000000</td>\n",
       "      <td>0.000000</td>\n",
       "      <td>0.000000</td>\n",
       "      <td>0.000000</td>\n",
       "      <td>0.000000</td>\n",
       "      <td>0.000000</td>\n",
       "      <td>0.000000</td>\n",
       "      <td>0.000000</td>\n",
       "      <td>0.000000</td>\n",
       "      <td>0.000000</td>\n",
       "      <td>0.000000</td>\n",
       "      <td>0.000000</td>\n",
       "      <td>0.000000</td>\n",
       "      <td>0.000000</td>\n",
       "      <td>0.000000</td>\n",
       "      <td>0.000000</td>\n",
       "      <td>0.000000</td>\n",
       "      <td>0.000000</td>\n",
       "      <td>0.000000</td>\n",
       "      <td>1.000000</td>\n",
       "      <td>0.000000</td>\n",
       "      <td>0.000000</td>\n",
       "    </tr>\n",
       "    <tr>\n",
       "      <th>25%</th>\n",
       "      <td>280.500000</td>\n",
       "      <td>37.389551</td>\n",
       "      <td>-122.192337</td>\n",
       "      <td>0.000000</td>\n",
       "      <td>0.580800</td>\n",
       "      <td>1.656150</td>\n",
       "      <td>1.000000</td>\n",
       "      <td>2.397300</td>\n",
       "      <td>3.000000</td>\n",
       "      <td>1.000000</td>\n",
       "      <td>3.000000e+06</td>\n",
       "      <td>1.000000</td>\n",
       "      <td>0.000000</td>\n",
       "      <td>0.000000</td>\n",
       "      <td>0.000000</td>\n",
       "      <td>0.000000</td>\n",
       "      <td>0.000000</td>\n",
       "      <td>0.000000</td>\n",
       "      <td>0.000000</td>\n",
       "      <td>0.000000</td>\n",
       "      <td>0.000000</td>\n",
       "      <td>0.000000</td>\n",
       "      <td>0.000000</td>\n",
       "      <td>0.000000</td>\n",
       "      <td>0.000000</td>\n",
       "      <td>0.000000</td>\n",
       "      <td>0.000000</td>\n",
       "      <td>0.000000</td>\n",
       "      <td>0.000000</td>\n",
       "      <td>0.000000</td>\n",
       "      <td>0.000000</td>\n",
       "      <td>0.000000</td>\n",
       "      <td>0.000000</td>\n",
       "      <td>1.500000</td>\n",
       "      <td>1.000000</td>\n",
       "      <td>0.000000</td>\n",
       "    </tr>\n",
       "    <tr>\n",
       "      <th>50%</th>\n",
       "      <td>573.000000</td>\n",
       "      <td>37.779281</td>\n",
       "      <td>-118.374037</td>\n",
       "      <td>1.000000</td>\n",
       "      <td>1.471200</td>\n",
       "      <td>3.476700</td>\n",
       "      <td>2.550650</td>\n",
       "      <td>4.475350</td>\n",
       "      <td>5.000000</td>\n",
       "      <td>2.000000</td>\n",
       "      <td>1.000000e+07</td>\n",
       "      <td>2.000000</td>\n",
       "      <td>1.000000</td>\n",
       "      <td>0.000000</td>\n",
       "      <td>0.000000</td>\n",
       "      <td>0.000000</td>\n",
       "      <td>0.000000</td>\n",
       "      <td>0.000000</td>\n",
       "      <td>0.000000</td>\n",
       "      <td>0.000000</td>\n",
       "      <td>0.000000</td>\n",
       "      <td>0.000000</td>\n",
       "      <td>0.000000</td>\n",
       "      <td>0.000000</td>\n",
       "      <td>0.000000</td>\n",
       "      <td>0.000000</td>\n",
       "      <td>0.000000</td>\n",
       "      <td>0.000000</td>\n",
       "      <td>0.000000</td>\n",
       "      <td>1.000000</td>\n",
       "      <td>0.000000</td>\n",
       "      <td>0.000000</td>\n",
       "      <td>0.000000</td>\n",
       "      <td>2.333300</td>\n",
       "      <td>1.000000</td>\n",
       "      <td>1.000000</td>\n",
       "    </tr>\n",
       "    <tr>\n",
       "      <th>75%</th>\n",
       "      <td>867.500000</td>\n",
       "      <td>40.730646</td>\n",
       "      <td>-77.090212</td>\n",
       "      <td>1.000000</td>\n",
       "      <td>3.494500</td>\n",
       "      <td>5.523250</td>\n",
       "      <td>4.582225</td>\n",
       "      <td>6.786325</td>\n",
       "      <td>10.000000</td>\n",
       "      <td>3.000000</td>\n",
       "      <td>2.450527e+07</td>\n",
       "      <td>3.000000</td>\n",
       "      <td>1.000000</td>\n",
       "      <td>0.000000</td>\n",
       "      <td>0.000000</td>\n",
       "      <td>0.000000</td>\n",
       "      <td>0.000000</td>\n",
       "      <td>0.000000</td>\n",
       "      <td>0.000000</td>\n",
       "      <td>0.000000</td>\n",
       "      <td>0.000000</td>\n",
       "      <td>0.000000</td>\n",
       "      <td>0.000000</td>\n",
       "      <td>0.000000</td>\n",
       "      <td>0.000000</td>\n",
       "      <td>0.000000</td>\n",
       "      <td>1.000000</td>\n",
       "      <td>1.000000</td>\n",
       "      <td>1.000000</td>\n",
       "      <td>1.000000</td>\n",
       "      <td>1.000000</td>\n",
       "      <td>0.000000</td>\n",
       "      <td>0.000000</td>\n",
       "      <td>3.666700</td>\n",
       "      <td>1.000000</td>\n",
       "      <td>1.000000</td>\n",
       "    </tr>\n",
       "    <tr>\n",
       "      <th>max</th>\n",
       "      <td>1153.000000</td>\n",
       "      <td>54.983201</td>\n",
       "      <td>-1.574631</td>\n",
       "      <td>1.000000</td>\n",
       "      <td>21.895900</td>\n",
       "      <td>21.895900</td>\n",
       "      <td>24.684900</td>\n",
       "      <td>24.684900</td>\n",
       "      <td>63.000000</td>\n",
       "      <td>10.000000</td>\n",
       "      <td>5.700000e+09</td>\n",
       "      <td>8.000000</td>\n",
       "      <td>1.000000</td>\n",
       "      <td>1.000000</td>\n",
       "      <td>1.000000</td>\n",
       "      <td>1.000000</td>\n",
       "      <td>1.000000</td>\n",
       "      <td>1.000000</td>\n",
       "      <td>1.000000</td>\n",
       "      <td>1.000000</td>\n",
       "      <td>1.000000</td>\n",
       "      <td>1.000000</td>\n",
       "      <td>1.000000</td>\n",
       "      <td>1.000000</td>\n",
       "      <td>1.000000</td>\n",
       "      <td>1.000000</td>\n",
       "      <td>1.000000</td>\n",
       "      <td>1.000000</td>\n",
       "      <td>1.000000</td>\n",
       "      <td>1.000000</td>\n",
       "      <td>1.000000</td>\n",
       "      <td>1.000000</td>\n",
       "      <td>1.000000</td>\n",
       "      <td>16.000000</td>\n",
       "      <td>1.000000</td>\n",
       "      <td>1.000000</td>\n",
       "    </tr>\n",
       "  </tbody>\n",
       "</table>\n",
       "</div>"
      ],
      "text/plain": [
       "        Unnamed: 0    latitude   longitude      labels  \\\n",
       "count   823.000000  823.000000  823.000000  823.000000   \n",
       "mean    571.929526   38.514740 -103.387944    0.643985   \n",
       "std     335.009983    3.669509   22.215104    0.479111   \n",
       "min       1.000000   25.752358 -122.756956    0.000000   \n",
       "25%     280.500000   37.389551 -122.192337    0.000000   \n",
       "50%     573.000000   37.779281 -118.374037    1.000000   \n",
       "75%     867.500000   40.730646  -77.090212    1.000000   \n",
       "max    1153.000000   54.983201   -1.574631    1.000000   \n",
       "\n",
       "       age_first_funding_year  age_last_funding_year  \\\n",
       "count              823.000000             823.000000   \n",
       "mean                 2.221836               3.913024   \n",
       "std                  2.500585               2.991667   \n",
       "min                 -9.046600              -9.046600   \n",
       "25%                  0.580800               1.656150   \n",
       "50%                  1.471200               3.476700   \n",
       "75%                  3.494500               5.523250   \n",
       "max                 21.895900              21.895900   \n",
       "\n",
       "       age_first_milestone_year  age_last_milestone_year  relationships  \\\n",
       "count                682.000000               682.000000     823.000000   \n",
       "mean                   3.063513                 4.790902       7.731470   \n",
       "std                    2.989482                 3.263351       7.351255   \n",
       "min                  -14.169900                -3.882200       0.000000   \n",
       "25%                    1.000000                 2.397300       3.000000   \n",
       "50%                    2.550650                 4.475350       5.000000   \n",
       "75%                    4.582225                 6.786325      10.000000   \n",
       "max                   24.684900                24.684900      63.000000   \n",
       "\n",
       "       funding_rounds  funding_total_usd  milestones       is_CA       is_NY  \\\n",
       "count      823.000000       8.230000e+02  823.000000  823.000000  823.000000   \n",
       "mean         2.317132       2.634635e+07    1.839611    0.522479    0.116646   \n",
       "std          1.394388       2.006804e+08    1.342198    0.499798    0.321194   \n",
       "min          1.000000       1.100000e+04    0.000000    0.000000    0.000000   \n",
       "25%          1.000000       3.000000e+06    1.000000    0.000000    0.000000   \n",
       "50%          2.000000       1.000000e+07    2.000000    1.000000    0.000000   \n",
       "75%          3.000000       2.450527e+07    3.000000    1.000000    0.000000   \n",
       "max         10.000000       5.700000e+09    8.000000    1.000000    1.000000   \n",
       "\n",
       "            is_MA       is_TX  is_otherstate  is_software      is_web  \\\n",
       "count  823.000000  823.000000     823.000000   823.000000  823.000000   \n",
       "mean     0.091130    0.044957       0.223572     0.167679    0.160389   \n",
       "std      0.287969    0.207337       0.416892     0.373808    0.367189   \n",
       "min      0.000000    0.000000       0.000000     0.000000    0.000000   \n",
       "25%      0.000000    0.000000       0.000000     0.000000    0.000000   \n",
       "50%      0.000000    0.000000       0.000000     0.000000    0.000000   \n",
       "75%      0.000000    0.000000       0.000000     0.000000    0.000000   \n",
       "max      1.000000    1.000000       1.000000     1.000000    1.000000   \n",
       "\n",
       "        is_mobile  is_enterprise  is_advertising  is_gamesvideo  is_ecommerce  \\\n",
       "count  823.000000     823.000000      823.000000     823.000000    823.000000   \n",
       "mean     0.082625       0.081409        0.065614       0.057108      0.029162   \n",
       "std      0.275481       0.273629        0.247756       0.232190      0.168362   \n",
       "min      0.000000       0.000000        0.000000       0.000000      0.000000   \n",
       "25%      0.000000       0.000000        0.000000       0.000000      0.000000   \n",
       "50%      0.000000       0.000000        0.000000       0.000000      0.000000   \n",
       "75%      0.000000       0.000000        0.000000       0.000000      0.000000   \n",
       "max      1.000000       1.000000        1.000000       1.000000      1.000000   \n",
       "\n",
       "       is_biotech  is_consulting  is_othercategory      has_VC   has_angel  \\\n",
       "count  823.000000     823.000000        823.000000  823.000000  823.000000   \n",
       "mean     0.037667       0.002430          0.315917    0.319563    0.258809   \n",
       "std      0.190506       0.049266          0.465163    0.466591    0.438247   \n",
       "min      0.000000       0.000000          0.000000    0.000000    0.000000   \n",
       "25%      0.000000       0.000000          0.000000    0.000000    0.000000   \n",
       "50%      0.000000       0.000000          0.000000    0.000000    0.000000   \n",
       "75%      0.000000       0.000000          1.000000    1.000000    1.000000   \n",
       "max      1.000000       1.000000          1.000000    1.000000    1.000000   \n",
       "\n",
       "       has_roundA  has_roundB  has_roundC  has_roundD  avg_participants  \\\n",
       "count  823.000000  823.000000  823.000000  823.000000        823.000000   \n",
       "mean     0.516403    0.391252    0.228433    0.099635          2.792424   \n",
       "std      0.500035    0.488327    0.420078    0.299695          1.854997   \n",
       "min      0.000000    0.000000    0.000000    0.000000          1.000000   \n",
       "25%      0.000000    0.000000    0.000000    0.000000          1.500000   \n",
       "50%      1.000000    0.000000    0.000000    0.000000          2.333300   \n",
       "75%      1.000000    1.000000    0.000000    0.000000          3.666700   \n",
       "max      1.000000    1.000000    1.000000    1.000000         16.000000   \n",
       "\n",
       "        is_top500      status  \n",
       "count  823.000000  823.000000  \n",
       "mean     0.806804    0.643985  \n",
       "std      0.395045    0.479111  \n",
       "min      0.000000    0.000000  \n",
       "25%      1.000000    0.000000  \n",
       "50%      1.000000    1.000000  \n",
       "75%      1.000000    1.000000  \n",
       "max      1.000000    1.000000  "
      ]
     },
     "execution_count": 11,
     "metadata": {},
     "output_type": "execute_result"
    }
   ],
   "source": [
    "data.describe()"
   ]
  },
  {
   "cell_type": "code",
   "execution_count": 12,
   "id": "5e06a131-d830-4931-9b88-e8202557c189",
   "metadata": {},
   "outputs": [
    {
     "name": "stdout",
     "output_type": "stream",
     "text": [
      "count          823\n",
      "unique         204\n",
      "top       1/1/2002\n",
      "freq            53\n",
      "Name: founded_at, dtype: object\n",
      "9/9/2010\n"
     ]
    }
   ],
   "source": [
    "print(data['founded_at'].describe())\n",
    "print(data['founded_at'].max())"
   ]
  },
  {
   "cell_type": "code",
   "execution_count": 13,
   "id": "60e45469-11a1-4ac5-b192-02186b1e5e20",
   "metadata": {},
   "outputs": [
    {
     "data": {
      "image/png": "[encoded data removed]",
      "text/plain": [
       "<Figure size 1000x600 with 1 Axes>"
      ]
     },
     "metadata": {},
     "output_type": "display_data"
    }
   ],
   "source": [
    "state_count = data['state_code'].value_counts()\n",
    "plt.figure(figsize=(10, 6))\n",
    "plt.bar(state_count.iloc[0:10].index, state_count.iloc[0:10].values)\n",
    "plt.xlabel('States')\n",
    "plt.ylabel('Startups')\n",
    "plt.title('Top 10 States by Number of Startups')\n",
    "\n",
    "# Rotate x-axis labels if necessary\n",
    "plt.xticks(rotation=45)\n",
    "\n",
    "# Display the plot\n",
    "plt.show()"
   ]
  },
  {
   "cell_type": "code",
   "execution_count": 15,
   "id": "416049a3-cde8-4f49-a318-3ebd48f27313",
   "metadata": {},
   "outputs": [
    {
     "data": {
      "text/plain": [
       "founded_at\n",
       "1/1/2002      53\n",
       "1/1/2005      49\n",
       "1/1/2000      48\n",
       "1/1/2006      46\n",
       "1/1/2003      46\n",
       "1/1/2008      44\n",
       "1/1/2004      44\n",
       "1/1/2007      42\n",
       "1/1/2001      34\n",
       "1/1/2009      31\n",
       "1/1/2010      21\n",
       "1/1/2011      10\n",
       "6/1/2006       9\n",
       "10/1/2006      8\n",
       "1/1/1999       7\n",
       "2/1/2010       7\n",
       "6/1/2005       7\n",
       "7/1/2008       6\n",
       "5/1/2005       5\n",
       "9/1/2007       5\n",
       "8/1/2006       5\n",
       "6/1/2007       5\n",
       "8/1/2010       5\n",
       "3/1/2011       4\n",
       "5/1/2010       4\n",
       "7/1/2009       4\n",
       "2/1/2005       4\n",
       "8/1/2009       4\n",
       "10/1/2007      4\n",
       "4/1/2007       4\n",
       "4/1/2006       4\n",
       "3/1/2010       4\n",
       "7/1/2007       4\n",
       "1/1/2012       4\n",
       "2/1/2007       4\n",
       "5/1/2006       4\n",
       "5/1/2007       4\n",
       "7/1/2000       3\n",
       "3/1/2009       3\n",
       "6/1/2010       3\n",
       "11/1/2008      3\n",
       "6/1/2008       3\n",
       "12/1/2006      3\n",
       "10/1/2005      3\n",
       "4/1/2009       3\n",
       "9/1/2008       3\n",
       "9/1/2010       3\n",
       "3/1/2007       3\n",
       "8/1/2007       3\n",
       "7/1/2005       3\n",
       "12/1/2004      2\n",
       "9/1/2006       2\n",
       "6/1/2009       2\n",
       "4/1/2005       2\n",
       "8/1/2012       2\n",
       "12/1/2005      2\n",
       "1/1/1996       2\n",
       "12/1/2007      2\n",
       "10/1/2002      2\n",
       "10/1/2003      2\n",
       "4/1/2008       2\n",
       "12/1/2000      2\n",
       "7/1/2010       2\n",
       "6/1/2011       2\n",
       "2/1/2004       2\n",
       "8/16/2010      2\n",
       "8/1/2005       2\n",
       "11/1/2007      2\n",
       "11/15/2011     2\n",
       "6/1/2003       2\n",
       "9/1/2009       2\n",
       "11/1/2004      2\n",
       "3/1/2004       2\n",
       "9/1/2011       2\n",
       "11/1/2005      2\n",
       "10/1/2010      2\n",
       "8/1/2008       2\n",
       "1/1/1997       2\n",
       "10/1/2009      2\n",
       "1/1/1998       2\n",
       "11/1/2006      2\n",
       "3/1/2006       2\n",
       "8/1/2011       2\n",
       "12/1/2009      2\n",
       "9/1/2005       2\n",
       "12/1/1999      2\n",
       "10/1/2008      2\n",
       "1/25/2010      1\n",
       "11/3/2008      1\n",
       "3/19/2009      1\n",
       "7/26/2010      1\n",
       "1/15/2005      1\n",
       "12/6/2004      1\n",
       "4/8/2009       1\n",
       "3/31/2009      1\n",
       "4/16/2013      1\n",
       "4/30/2009      1\n",
       "2/1/2008       1\n",
       "2/1/2006       1\n",
       "4/10/1990      1\n",
       "7/14/2009      1\n",
       "11/17/2002     1\n",
       "8/10/2009      1\n",
       "3/1/2003       1\n",
       "6/1/2012       1\n",
       "5/18/2007      1\n",
       "7/7/2007       1\n",
       "10/1/2001      1\n",
       "5/1/2009       1\n",
       "12/11/2007     1\n",
       "10/4/2010      1\n",
       "12/15/2011     1\n",
       "8/28/2005      1\n",
       "9/10/2008      1\n",
       "8/6/2006       1\n",
       "2/12/2010      1\n",
       "5/1/1999       1\n",
       "1/1/1995       1\n",
       "2/8/2007       1\n",
       "1/1/1984       1\n",
       "1/6/2005       1\n",
       "4/7/2005       1\n",
       "8/29/2007      1\n",
       "10/1/2004      1\n",
       "8/28/2000      1\n",
       "5/4/2005       1\n",
       "3/1/2001       1\n",
       "1/10/2012      1\n",
       "4/1/2004       1\n",
       "6/1/2000       1\n",
       "8/5/2005       1\n",
       "7/27/2009      1\n",
       "3/1/2008       1\n",
       "3/1/2005       1\n",
       "7/8/2008       1\n",
       "5/17/2011      1\n",
       "5/3/2006       1\n",
       "6/12/2009      1\n",
       "9/19/2006      1\n",
       "4/11/2008      1\n",
       "11/25/2009     1\n",
       "2/23/2005      1\n",
       "10/11/2004     1\n",
       "6/20/2009      1\n",
       "5/2/2002       1\n",
       "3/1/2000       1\n",
       "8/28/2007      1\n",
       "2/1/2011       1\n",
       "1/29/2012      1\n",
       "4/17/2009      1\n",
       "6/4/2007       1\n",
       "4/1/2010       1\n",
       "9/24/2010      1\n",
       "1/4/2009       1\n",
       "9/9/2009       1\n",
       "1/15/2007      1\n",
       "1/1/1985       1\n",
       "12/21/2010     1\n",
       "1/1/2013       1\n",
       "9/1/2004       1\n",
       "9/9/2010       1\n",
       "6/12/2012      1\n",
       "2/2/2006       1\n",
       "12/1/2008      1\n",
       "5/24/2010      1\n",
       "10/17/2009     1\n",
       "5/11/2004      1\n",
       "7/1/2004       1\n",
       "5/24/2005      1\n",
       "11/26/2007     1\n",
       "11/15/2000     1\n",
       "3/18/2009      1\n",
       "1/20/2006      1\n",
       "2/1/2009       1\n",
       "1/3/2000       1\n",
       "1/1/1992       1\n",
       "10/22/2004     1\n",
       "5/1/2011       1\n",
       "8/18/2004      1\n",
       "4/4/2009       1\n",
       "9/1/2003       1\n",
       "5/9/2005       1\n",
       "8/29/2003      1\n",
       "12/11/2009     1\n",
       "10/17/2008     1\n",
       "1/8/2011       1\n",
       "3/12/2009      1\n",
       "3/6/2009       1\n",
       "8/29/2006      1\n",
       "5/10/2005      1\n",
       "2/14/2005      1\n",
       "5/15/2005      1\n",
       "11/1/2003      1\n",
       "10/17/2007     1\n",
       "10/31/2000     1\n",
       "4/16/2007      1\n",
       "7/1/2006       1\n",
       "3/3/2005       1\n",
       "11/11/2011     1\n",
       "9/1/2001       1\n",
       "8/11/2006      1\n",
       "4/14/2003      1\n",
       "8/19/2004      1\n",
       "2/1/2000       1\n",
       "Name: count, dtype: int64"
      ]
     },
     "execution_count": 15,
     "metadata": {},
     "output_type": "execute_result"
    }
   ],
   "source": [
    "data['founded_at'].value_counts()"
   ]
  },
  {
   "cell_type": "code",
   "execution_count": null,
   "id": "e6ceba20-1a80-4ba2-96e3-9165af2c1033",
   "metadata": {},
   "outputs": [],
   "source": [
    "category_code_count = data['category_code'].value_counts()\n",
    "plt.figure(figsize=(10, 6))\n",
    "plt.bar(category_code_count.iloc[0:10].index, category_code_count.iloc[0:10].values)\n",
    "plt.xlabel('Categories')\n",
    "plt.ylabel('Startups')\n",
    "plt.title('Top 10 Categories of Startups')\n",
    "\n",
    "# Rotate x-axis labels if necessary\n",
    "plt.xticks(rotation=45)\n",
    "\n",
    "# Display the plot\n",
    "plt.show()"
   ]
  },
  {
   "cell_type": "code",
   "execution_count": null,
   "id": "5cc06a56-1961-43fd-b808-11b0cdf6760d",
   "metadata": {},
   "outputs": [],
   "source": [
    "# Separate object vs numeric columns:\n",
    "\n",
    "obj_cols = data.select_dtypes(include='object').columns.to_list()\n",
    "print(obj_cols)\n",
    "print(len(obj_cols))"
   ]
  },
  {
   "cell_type": "code",
   "execution_count": null,
   "id": "adb11141-28cc-4af9-aa6b-a0935c944750",
   "metadata": {},
   "outputs": [],
   "source": [
    "num_cols = data.select_dtypes(exclude='object').columns.to_list()\n",
    "print(num_cols)\n",
    "print(len(num_cols))"
   ]
  },
  {
   "cell_type": "code",
   "execution_count": null,
   "id": "4008f6fd-bfcd-44eb-8d9c-327e22e313ab",
   "metadata": {},
   "outputs": [],
   "source": []
  },
  {
   "cell_type": "code",
   "execution_count": null,
   "id": "b4456454-f047-4c12-8cfe-6bffd738a45d",
   "metadata": {},
   "outputs": [],
   "source": [
    "# Creating a new dataset with the numeric columns so I can create a heatmap to investigate the correlations:\n",
    "\n",
    "num_df = pd.DataFrame(data[num_cols])\n",
    "#num_df"
   ]
  },
  {
   "cell_type": "code",
   "execution_count": null,
   "id": "37b39f37-f46c-4f1b-bd4b-26f271994345",
   "metadata": {},
   "outputs": [],
   "source": []
  },
  {
   "cell_type": "code",
   "execution_count": null,
   "id": "c61e40d9-05cb-4993-9bc4-57fe920e8216",
   "metadata": {},
   "outputs": [],
   "source": [
    "corr = num_df.corr()\n",
    "high_corr = corr[abs(corr)>0.2]\n",
    "plt.figure(figsize=(10,10))\n",
    "sns.heatmap(high_corr, annot = True)"
   ]
  },
  {
   "cell_type": "code",
   "execution_count": null,
   "id": "92dba20b-1a41-42b7-ba60-0d6a503cdfff",
   "metadata": {},
   "outputs": [],
   "source": [
    "# From the correlation heatmap we understand that we need to drop the following columns:\n",
    "# Labels is highly correlated with status, will drop\n",
    "# S"
   ]
  },
  {
   "cell_type": "code",
   "execution_count": null,
   "id": "a55c396c-1781-4d14-8f4c-c9d79a73fb6b",
   "metadata": {},
   "outputs": [],
   "source": [
    "data['state_code'].unique()"
   ]
  },
  {
   "cell_type": "code",
   "execution_count": null,
   "id": "45ea2ee9-b81e-429b-94b0-bc17933b376d",
   "metadata": {},
   "outputs": [],
   "source": [
    "data['state_code'].nunique()"
   ]
  },
  {
   "cell_type": "code",
   "execution_count": null,
   "id": "716426fa-5ca8-4388-a403-f7eded9924af",
   "metadata": {},
   "outputs": [],
   "source": [
    "# We want to see the top 3 states with the most start ups\n",
    "data['state_code'].value_counts().head(3)"
   ]
  },
  {
   "cell_type": "code",
   "execution_count": null,
   "id": "17c5e688-ebca-41fb-a5c8-db422002464a",
   "metadata": {},
   "outputs": [],
   "source": [
    "data['category_code'].nunique()"
   ]
  },
  {
   "cell_type": "code",
   "execution_count": null,
   "id": "63941fb2-02f7-476f-a684-35a1c59fdd03",
   "metadata": {},
   "outputs": [],
   "source": [
    "data['category_code'].unique()"
   ]
  },
  {
   "cell_type": "code",
   "execution_count": null,
   "id": "6b0798b8-b645-48f1-acd4-dff56ead5428",
   "metadata": {},
   "outputs": [],
   "source": [
    "data['category_code'].value_counts().head(10)"
   ]
  },
  {
   "cell_type": "code",
   "execution_count": null,
   "id": "c51c55d2-f9a3-4c26-ae20-0c02ce297c33",
   "metadata": {},
   "outputs": [],
   "source": [
    "# We only want the top 3 states, so we are moving the Texas start ups in the otherstate column \n",
    "data['is_otherstate'] = data['is_otherstate'] + data['is_TX']\n"
   ]
  },
  {
   "cell_type": "code",
   "execution_count": null,
   "id": "0a30898d-c76c-432a-9799-f1cdc1f5a3ec",
   "metadata": {},
   "outputs": [],
   "source": [
    "# Columns too look into more   'founded_at', 'closed_at', 'first_funding_at', 'last_funding_at', : probably to make them dates\n",
    "# Columns for OHE 'category_code'"
   ]
  },
  {
   "cell_type": "code",
   "execution_count": null,
   "id": "852b9957-b48e-4e27-bd0b-1c71a380c072",
   "metadata": {},
   "outputs": [],
   "source": [
    "# OHE in category_code column, then I will also drop the \n",
    "\n",
    "OHE_col = ['category_code']\n",
    "data = pd.get_dummies(data,columns = OHE_col)\n",
    "data.replace(to_replace = [True, False],value = [1,0], inplace = True)\n",
    "data.head()"
   ]
  },
  {
   "cell_type": "code",
   "execution_count": null,
   "id": "cb2b64da-2a6c-43d6-82b3-4648d4119a82",
   "metadata": {},
   "outputs": [],
   "source": [
    "# Expanding the 4 columns into years and months \n",
    "data['founded_at']=pd.to_datetime(data['founded_at'])\n",
    "data['funded_year']=data['founded_at'].dt.year\n",
    "#data['funded_month']=data['founded_at'].dt.month\n",
    "data['funded_year'].info()\n",
    "\n",
    "data['closed_at']=pd.to_datetime(data['closed_at'])\n",
    "data['closure_year']=data['closed_at'].dt.year\n",
    "#data['closure_month']=data['closed_at'].dt.month\n",
    "data['closure_year'].info()\n",
    "\n",
    "data['first_funding_at']=pd.to_datetime(data['first_funding_at'])\n",
    "data['first_funded_year']=data['first_funding_at'].dt.year\n",
    "#data['first_funded_month']=data['first_funding_at'].dt.month\n",
    "\n",
    "data['last_funding_at']=pd.to_datetime(data['last_funding_at'])\n",
    "data['last_funded_year']=data['last_funding_at'].dt.year\n",
    "#data['last_funded_month']=data['last_funding_at'].dt.month"
   ]
  },
  {
   "cell_type": "code",
   "execution_count": null,
   "id": "5ec6da85-bfe9-4ed3-b4e2-fecfa8def4c2",
   "metadata": {},
   "outputs": [],
   "source": []
  },
  {
   "cell_type": "code",
   "execution_count": null,
   "id": "770a6a62-5c81-488a-bb18-b0f30bf5e768",
   "metadata": {},
   "outputs": [],
   "source": [
    "plt.figure(figsize=(10, 6))\n",
    "sns.countplot(data[data['funded_year']>=2000], x = 'funded_year')\n",
    "plt.xlabel('Year')\n",
    "plt.ylabel('Number of Funded Startups')\n",
    "plt.title('Number of Funded Startups per Year 2000-2013')\n",
    "plt.xticks(rotation=45)\n",
    "plt.show()"
   ]
  },
  {
   "cell_type": "code",
   "execution_count": null,
   "id": "171d2ff9-4f5b-4e44-845c-30bffaaa46e6",
   "metadata": {},
   "outputs": [],
   "source": [
    "# Fill in null values on the dates with 0, as we do not have the information:\n",
    "\n",
    "data['closure_year'] = data['closure_year'].fillna(value=0)\n",
    "#data['closure_month'] = data['closure_month'].fillna(value=0)\n",
    "data['age_first_milestone_year'] = data['age_first_milestone_year'].fillna(value=0)\n",
    "data['age_last_milestone_year'] = data['age_last_milestone_year'].fillna(value=0)"
   ]
  },
  {
   "cell_type": "code",
   "execution_count": null,
   "id": "3c7f4a74-daf7-4582-a8ff-4975d965144b",
   "metadata": {},
   "outputs": [],
   "source": [
    "#data.info()"
   ]
  },
  {
   "cell_type": "code",
   "execution_count": null,
   "id": "5b9e7472-7ec9-4b3a-9e8f-f1c1b99d787e",
   "metadata": {},
   "outputs": [],
   "source": [
    "#data.isnull().sum()"
   ]
  },
  {
   "cell_type": "code",
   "execution_count": null,
   "id": "866ca0b5-6806-47c3-aaec-b760a4d47d76",
   "metadata": {},
   "outputs": [],
   "source": [
    "data.isnull().sum().sum()"
   ]
  },
  {
   "cell_type": "code",
   "execution_count": null,
   "id": "ad76b718-6385-4941-b4bc-c8addc68c310",
   "metadata": {},
   "outputs": [],
   "source": [
    "# Drop columns with no useful/important information and highly correlated columns\n",
    "\n",
    "data.drop(['Unnamed: 0', 'Unnamed: 6' , 'zip_code', 'state_code', 'state_code.1', 'name', 'labels', 'is_TX', 'id', 'city', 'object_id', 'founded_at', 'closed_at', 'first_funding_at', 'last_funding_at'] , axis =1, inplace = True)"
   ]
  },
  {
   "cell_type": "code",
   "execution_count": null,
   "id": "3632b324-8b6e-4835-bfdd-06b8f28e29e3",
   "metadata": {},
   "outputs": [],
   "source": [
    "data.shape"
   ]
  },
  {
   "cell_type": "code",
   "execution_count": null,
   "id": "101cd47a-f1dd-46d0-8641-1463b9e10c72",
   "metadata": {},
   "outputs": [],
   "source": [
    "data.head()"
   ]
  },
  {
   "cell_type": "code",
   "execution_count": null,
   "id": "9fb680ad-87fd-4fea-a7be-3cbeb02a885e",
   "metadata": {},
   "outputs": [],
   "source": [
    "# Checking for any remaining null values:\n",
    "\n",
    "data.isnull().sum().sum()"
   ]
  },
  {
   "cell_type": "code",
   "execution_count": null,
   "id": "3ca50f5a-d74f-46a7-9e20-354bbf790f06",
   "metadata": {},
   "outputs": [],
   "source": [
    "corr = data.corr()\n",
    "high_corr = corr[abs(corr)>0.5]\n",
    "plt.figure(figsize=(10,10))\n",
    "sns.heatmap(high_corr, annot = True)"
   ]
  },
  {
   "cell_type": "code",
   "execution_count": null,
   "id": "c33dccef-107e-4a0d-8d12-b858579418ef",
   "metadata": {},
   "outputs": [],
   "source": [
    "data['status'].value_counts()"
   ]
  },
  {
   "cell_type": "code",
   "execution_count": null,
   "id": "6225d9fc-124e-48f1-816b-fc98a1c04e8c",
   "metadata": {},
   "outputs": [],
   "source": [
    "acquired_df = pd.DataFrame(data[data['status'] == 1])"
   ]
  },
  {
   "cell_type": "code",
   "execution_count": null,
   "id": "82f30f92-145f-4c74-b403-d0b660b0928c",
   "metadata": {},
   "outputs": [],
   "source": [
    "acquired_df['closure_year'].unique()"
   ]
  },
  {
   "cell_type": "code",
   "execution_count": null,
   "id": "3d5a081f-b8af-41f0-a88e-4ce235e14879",
   "metadata": {},
   "outputs": [],
   "source": [
    "acquired_df['closure_year'].nunique()"
   ]
  },
  {
   "cell_type": "code",
   "execution_count": null,
   "id": "417bd35d-d002-43cf-bb82-249ba3357f3e",
   "metadata": {},
   "outputs": [],
   "source": [
    "acquired_df['closure_year'].value_counts()\n",
    "\n",
    "# the 0.0 mean that the start up did not close and got acquired "
   ]
  },
  {
   "cell_type": "code",
   "execution_count": null,
   "id": "36d7432f-e326-4536-8fca-1efd94e0c696",
   "metadata": {},
   "outputs": [],
   "source": [
    "df = data.copy()"
   ]
  },
  {
   "cell_type": "code",
   "execution_count": null,
   "id": "eec637cd-40b5-444b-8a3d-bb7cee71b77a",
   "metadata": {},
   "outputs": [],
   "source": []
  },
  {
   "cell_type": "markdown",
   "id": "e78fb192-088a-4f30-baad-3a00c6b99537",
   "metadata": {},
   "source": [
    "# New dataframe creation: We clearly can see that closure_year columns created overfitting on our data so we will create a new dataframe without this column and we will continue working with this as base going forward."
   ]
  },
  {
   "cell_type": "code",
   "execution_count": null,
   "id": "c00fa992-7e10-4e27-96e0-be004b5ceca9",
   "metadata": {},
   "outputs": [],
   "source": [
    "data_clean = df.copy()"
   ]
  },
  {
   "cell_type": "code",
   "execution_count": null,
   "id": "ca1d2698-2269-427a-9a57-087a4e6ab724",
   "metadata": {},
   "outputs": [],
   "source": [
    "data_clean.columns"
   ]
  },
  {
   "cell_type": "code",
   "execution_count": null,
   "id": "5bef3d53-5eaf-49d9-82c7-4479db62e54b",
   "metadata": {},
   "outputs": [],
   "source": [
    "data_clean.drop('closure_year', axis =1, inplace = True)"
   ]
  },
  {
   "cell_type": "code",
   "execution_count": null,
   "id": "ee9d2130-9941-4ec3-b999-357a43354c3e",
   "metadata": {},
   "outputs": [],
   "source": [
    "data_clean.columns"
   ]
  },
  {
   "cell_type": "code",
   "execution_count": null,
   "id": "973a5d6b-40eb-4bba-a08f-006423302a21",
   "metadata": {},
   "outputs": [],
   "source": [
    "df2 = data_clean.copy()"
   ]
  },
  {
   "cell_type": "markdown",
   "id": "42803a0c-a8f8-4bce-9a88-dad6fce5f4be",
   "metadata": {},
   "source": [
    "# Model Tuning "
   ]
  },
  {
   "cell_type": "code",
   "execution_count": null,
   "id": "edb46840-f819-4fa3-a8e2-a48159421dbb",
   "metadata": {},
   "outputs": [],
   "source": []
  }
 ],
 "metadata": {
  "kernelspec": {
   "display_name": "Python 3 (ipykernel)",
   "language": "python",
   "name": "python3"
  },
  "language_info": {
   "codemirror_mode": {
    "name": "ipython",
    "version": 3
   },
   "file_extension": ".py",
   "mimetype": "text/x-python",
   "name": "python",
   "nbconvert_exporter": "python",
   "pygments_lexer": "ipython3",
   "version": "3.9.7"
  }
 },
 "nbformat": 4,
 "nbformat_minor": 5
}
